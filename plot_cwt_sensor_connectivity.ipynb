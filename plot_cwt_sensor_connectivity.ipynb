{
 "cells": [
  {
   "cell_type": "code",
   "execution_count": null,
   "metadata": {
    "collapsed": false
   },
   "outputs": [],
   "source": [
    "%matplotlib inline"
   ]
  },
  {
   "cell_type": "markdown",
   "metadata": {},
   "source": [
    "\n",
    "# Compute seed based time-frequency connectivity in sensor space\n",
    "\n",
    "\n",
    "Computes the connectivity between a seed-gradiometer close to the visual cortex\n",
    "and all other gradiometers. The connectivity is computed in the time-frequency\n",
    "domain using Morlet wavelets and the debiased Squared Weighted Phase Lag Index\n",
    "[1]_ is used as connectivity metric.\n",
    "\n",
    ".. [1] Vinck et al. \"An improved index of phase-synchronization for electro-\n",
    "       physiological data in the presence of volume-conduction, noise and\n",
    "       sample-size bias\" NeuroImage, vol. 55, no. 4, pp. 1548-1565, Apr. 2011.\n",
    "\n"
   ]
  },
  {
   "cell_type": "code",
   "execution_count": 1,
   "metadata": {
    "collapsed": false
   },
   "outputs": [
    {
     "name": "stdout",
     "output_type": "stream",
     "text": [
      "Automatically created module for IPython interactive environment\n"
     ]
    }
   ],
   "source": [
    "# Author: Martin Luessi <mluessi@nmr.mgh.harvard.edu>\n",
    "#\n",
    "# License: BSD (3-clause)\n",
    "\n",
    "import numpy as np\n",
    "\n",
    "import mne\n",
    "from mne import io\n",
    "from mne.connectivity import spectral_connectivity, seed_target_indices\n",
    "from mne.datasets import sample\n",
    "from mne.time_frequency import AverageTFR\n",
    "\n",
    "print(__doc__)"
   ]
  },
  {
   "cell_type": "markdown",
   "metadata": {},
   "source": [
    "Set parameters\n",
    "\n"
   ]
  },
  {
   "cell_type": "code",
   "execution_count": 3,
   "metadata": {
    "collapsed": false
   },
   "outputs": [
    {
     "name": "stdout",
     "output_type": "stream",
     "text": [
      "Opening raw data file C:\\Users\\Dominik\\mne_data\\MNE-sample-data\\MEG\\sample\\sample_audvis_filt-0-40_raw.fif...\n",
      "    Read a total of 4 projection items:\n",
      "        PCA-v1 (1 x 102)  idle\n",
      "        PCA-v2 (1 x 102)  idle\n",
      "        PCA-v3 (1 x 102)  idle\n",
      "        Average EEG reference (1 x 60)  idle\n",
      "    Range : 6450 ... 48149 =     42.956 ...   320.665 secs\n",
      "Ready.\n",
      "Current compensation grade : 0\n",
      "73 matching events found\n",
      "4 projection items activated\n",
      "Loading data for 73 events and 106 original time points ...\n",
      "    Rejecting  epoch based on EOG : [u'EOG 061']\n",
      "    Rejecting  epoch based on EOG : [u'EOG 061']\n",
      "    Rejecting  epoch based on EOG : [u'EOG 061']\n",
      "    Rejecting  epoch based on EOG : [u'EOG 061']\n",
      "    Rejecting  epoch based on EOG : [u'EOG 061']\n",
      "    Rejecting  epoch based on EOG : [u'EOG 061']\n",
      "6 bad epochs dropped\n",
      "178\n",
      "[  0   1   2   3   4   5   6   7   8   9  10  11  12  13  14  15  16  17\n",
      "  18  19  20  21  22  23  24  25  26  27  28  29  30  31  32  33  34  35\n",
      "  36  37  38  39  40  41  42  43  44  45  46  47  48  49  50  51  52  53\n",
      "  54  55  56  57  58  59  60  61  62  63  64  65  66  67  68  69  70  71\n",
      "  72  73  74  75  76  77  78  79  80  81  82  83  84  85  86  87  88  89\n",
      "  90  91  92  93  94  95  96  97  98  99 100 101 102 103 104 105 106 107\n",
      " 108 109 110 111 112 113 114 115 116 117 118 119 120 121 122 123 124 125\n",
      " 126 127 128 129 130 131 132 133 134 135 136 137 138 139 140 141 142 143\n",
      " 144 145 146 147 148 149 150 151 152 153 154 155 156 157 158 159 160 161\n",
      " 162 163 164 165 166 167 168 169 170 171 172 173 174 175 176 177 178 179\n",
      " 180 181 182 183 184 185 186 187 188 189 190 191 192 193 194 195 196 197\n",
      " 198 199 200 201 202 203]\n",
      "(array([178, 178, 178, 178, 178, 178, 178, 178, 178, 178, 178, 178, 178,\n",
      "       178, 178, 178, 178, 178, 178, 178, 178, 178, 178, 178, 178, 178,\n",
      "       178, 178, 178, 178, 178, 178, 178, 178, 178, 178, 178, 178, 178,\n",
      "       178, 178, 178, 178, 178, 178, 178, 178, 178, 178, 178, 178, 178,\n",
      "       178, 178, 178, 178, 178, 178, 178, 178, 178, 178, 178, 178, 178,\n",
      "       178, 178, 178, 178, 178, 178, 178, 178, 178, 178, 178, 178, 178,\n",
      "       178, 178, 178, 178, 178, 178, 178, 178, 178, 178, 178, 178, 178,\n",
      "       178, 178, 178, 178, 178, 178, 178, 178, 178, 178, 178, 178, 178,\n",
      "       178, 178, 178, 178, 178, 178, 178, 178, 178, 178, 178, 178, 178,\n",
      "       178, 178, 178, 178, 178, 178, 178, 178, 178, 178, 178, 178, 178,\n",
      "       178, 178, 178, 178, 178, 178, 178, 178, 178, 178, 178, 178, 178,\n",
      "       178, 178, 178, 178, 178, 178, 178, 178, 178, 178, 178, 178, 178,\n",
      "       178, 178, 178, 178, 178, 178, 178, 178, 178, 178, 178, 178, 178,\n",
      "       178, 178, 178, 178, 178, 178, 178, 178, 178, 178, 178, 178, 178,\n",
      "       178, 178, 178, 178, 178, 178, 178, 178, 178, 178, 178, 178, 178,\n",
      "       178, 178, 178, 178, 178, 178, 178, 178, 178]), array([  0,   1,   2,   3,   4,   5,   6,   7,   8,   9,  10,  11,  12,\n",
      "        13,  14,  15,  16,  17,  18,  19,  20,  21,  22,  23,  24,  25,\n",
      "        26,  27,  28,  29,  30,  31,  32,  33,  34,  35,  36,  37,  38,\n",
      "        39,  40,  41,  42,  43,  44,  45,  46,  47,  48,  49,  50,  51,\n",
      "        52,  53,  54,  55,  56,  57,  58,  59,  60,  61,  62,  63,  64,\n",
      "        65,  66,  67,  68,  69,  70,  71,  72,  73,  74,  75,  76,  77,\n",
      "        78,  79,  80,  81,  82,  83,  84,  85,  86,  87,  88,  89,  90,\n",
      "        91,  92,  93,  94,  95,  96,  97,  98,  99, 100, 101, 102, 103,\n",
      "       104, 105, 106, 107, 108, 109, 110, 111, 112, 113, 114, 115, 116,\n",
      "       117, 118, 119, 120, 121, 122, 123, 124, 125, 126, 127, 128, 129,\n",
      "       130, 131, 132, 133, 134, 135, 136, 137, 138, 139, 140, 141, 142,\n",
      "       143, 144, 145, 146, 147, 148, 149, 150, 151, 152, 153, 154, 155,\n",
      "       156, 157, 158, 159, 160, 161, 162, 163, 164, 165, 166, 167, 168,\n",
      "       169, 170, 171, 172, 173, 174, 175, 176, 177, 178, 179, 180, 181,\n",
      "       182, 183, 184, 185, 186, 187, 188, 189, 190, 191, 192, 193, 194,\n",
      "       195, 196, 197, 198, 199, 200, 201, 202, 203]))\n"
     ]
    }
   ],
   "source": [
    "data_path = sample.data_path()\n",
    "raw_fname = data_path + '/MEG/sample/sample_audvis_filt-0-40_raw.fif'\n",
    "event_fname = data_path + '/MEG/sample/sample_audvis_filt-0-40_raw-eve.fif'\n",
    "\n",
    "# Setup for reading the raw data\n",
    "raw = io.read_raw_fif(raw_fname)\n",
    "events = mne.read_events(event_fname)\n",
    "\n",
    "# Add a bad channel\n",
    "raw.info['bads'] += ['MEG 2443']\n",
    "\n",
    "# Pick MEG gradiometers\n",
    "picks = mne.pick_types(raw.info, meg='grad', eeg=False, stim=False, eog=True,\n",
    "                       exclude='bads')\n",
    "\n",
    "# Create epochs for left-visual condition\n",
    "event_id, tmin, tmax = 3, -0.2, 0.5\n",
    "epochs = mne.Epochs(raw, events, event_id, tmin, tmax, picks=picks,\n",
    "                    baseline=(None, 0), reject=dict(grad=4000e-13, eog=150e-6),\n",
    "                    preload=True)\n",
    "\n",
    "# Use 'MEG 2343' as seed\n",
    "seed_ch = 'MEG 2343'\n",
    "picks_ch_names = [raw.ch_names[i] for i in picks]\n",
    "\n",
    "# Create seed-target indices for connectivity computation\n",
    "seed = picks_ch_names.index(seed_ch)\n",
    "targets = np.arange(len(picks))\n",
    "indices = seed_target_indices(seed, targets)\n",
    "print seed \n",
    "print targets\n",
    "print indices\n",
    "\n"
   ]
  },
  {
   "cell_type": "code",
   "execution_count": null,
   "metadata": {
    "collapsed": true
   },
   "outputs": [],
   "source": [
    "# Define wavelet frequencies and number of cycles\n",
    "cwt_frequencies = np.arange(7, 30, 2)\n",
    "cwt_n_cycles = cwt_frequencies / 7.\n",
    "\n",
    "# Run the connectivity analysis using 2 parallel jobs\n",
    "sfreq = raw.info['sfreq']  # the sampling frequency\n",
    "con, freqs, times, _, _ = spectral_connectivity(\n",
    "    epochs, indices=indices,\n",
    "    method='wpli2_debiased', mode='cwt_morlet', sfreq=sfreq,\n",
    "    cwt_frequencies=cwt_frequencies, cwt_n_cycles=cwt_n_cycles, n_jobs=1)\n",
    "\n",
    "# Mark the seed channel with a value of 1.0, so we can see it in the plot\n",
    "con[np.where(indices[1] == seed)] = 1.0\n",
    "\n",
    "# Show topography of connectivity from seed\n",
    "title = 'WPLI2 - Visual - Seed %s' % seed_ch\n",
    "\n",
    "layout = mne.find_layout(epochs.info, 'meg')  # use full layout\n",
    "\n",
    "tfr = AverageTFR(epochs.info, con, times, freqs, len(epochs))\n",
    "tfr.plot_topo(fig_facecolor='w', font_color='k', border='k')"
   ]
  }
 ],
 "metadata": {
  "kernelspec": {
   "display_name": "Python [default]",
   "language": "python",
   "name": "python2"
  },
  "language_info": {
   "codemirror_mode": {
    "name": "ipython",
    "version": 2
   },
   "file_extension": ".py",
   "mimetype": "text/x-python",
   "name": "python",
   "nbconvert_exporter": "python",
   "pygments_lexer": "ipython2",
   "version": "2.7.13"
  }
 },
 "nbformat": 4,
 "nbformat_minor": 0
}
