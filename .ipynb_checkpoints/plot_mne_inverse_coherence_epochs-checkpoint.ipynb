{
 "cells": [
  {
   "cell_type": "code",
   "execution_count": null,
   "metadata": {
    "collapsed": false
   },
   "outputs": [],
   "source": [
    "%matplotlib inline"
   ]
  },
  {
   "cell_type": "markdown",
   "metadata": {},
   "source": [
    "\n",
    "# Compute coherence in source space using a MNE inverse solution\n",
    "\n",
    "\n",
    "This examples computes the coherence between a seed in the left\n",
    "auditory cortex and the rest of the brain based on single-trial\n",
    "MNE-dSPM inverse solutions.\n",
    "\n",
    "\n"
   ]
  },
  {
   "cell_type": "code",
   "execution_count": null,
   "metadata": {
    "collapsed": false
   },
   "outputs": [],
   "source": [
    "#NOT USED AS OF NOW!!!!!!!!!!\n",
    "\n",
    "\n",
    "\n",
    "# Author: Martin Luessi <mluessi@nmr.mgh.harvard.edu>\n",
    "#\n",
    "# License: BSD (3-clause)\n",
    "\n",
    "import numpy as np\n",
    "\n",
    "import mne\n",
    "from mne.datasets import sample\n",
    "from mne.minimum_norm import (apply_inverse, apply_inverse_epochs,\n",
    "                              read_inverse_operator)\n",
    "from mne.connectivity import seed_target_indices, spectral_connectivity\n",
    "\n",
    "print(__doc__)\n",
    "\n",
    "data_path = sample.data_path()\n",
    "subjects_dir = data_path + '/subjects'\n",
    "fname_inv = data_path + '/MEG/sample/sample_audvis-meg-oct-6-meg-inv.fif'\n",
    "fname_raw = data_path + '/MEG/sample/sample_audvis_filt-0-40_raw.fif'\n",
    "fname_event = data_path + '/MEG/sample/sample_audvis_filt-0-40_raw-eve.fif'\n",
    "label_name_lh = 'Aud-lh'\n",
    "fname_label_lh = data_path + '/MEG/sample/labels/%s.label' % label_name_lh\n",
    "\n",
    "event_id, tmin, tmax = 1, -0.2, 0.5\n",
    "method = \"dSPM\"  # use dSPM method (could also be MNE or sLORETA)\n",
    "\n",
    "# Load data.\n",
    "inverse_operator = read_inverse_operator(fname_inv)\n",
    "label_lh = mne.read_label(fname_label_lh)\n",
    "raw = mne.io.read_raw_fif(fname_raw)\n",
    "events = mne.read_events(fname_event)\n",
    "\n",
    "# Add a bad channel.\n",
    "raw.info['bads'] += ['MEG 2443']\n",
    "\n",
    "# pick MEG channels.\n",
    "picks = mne.pick_types(raw.info, meg=True, eeg=False, stim=False, eog=True,\n",
    "                       exclude='bads')\n",
    "\n",
    "# Read epochs.\n",
    "epochs = mne.Epochs(raw, events, event_id, tmin, tmax, picks=picks,\n",
    "                    baseline=(None, 0),\n",
    "                    reject=dict(mag=4e-12, grad=4000e-13, eog=150e-6))\n",
    "\n",
    "# First, we find the most active vertex in the left auditory cortex, which\n",
    "# we will later use as seed for the connectivity computation.\n",
    "snr = 3.0\n",
    "lambda2 = 1.0 / snr ** 2\n",
    "evoked = epochs.average()\n",
    "stc = apply_inverse(evoked, inverse_operator, lambda2, method,\n",
    "                    pick_ori=\"normal\")\n",
    "\n",
    "# Restrict the source estimate to the label in the left auditory cortex.\n",
    "stc_label = stc.in_label(label_lh)\n",
    "\n",
    "# Find number and index of vertex with most power.\n",
    "src_pow = np.sum(stc_label.data ** 2, axis=1)\n",
    "seed_vertno = stc_label.vertices[0][np.argmax(src_pow)]\n",
    "seed_idx = np.searchsorted(stc.vertices[0], seed_vertno)  # index in orig stc\n",
    "\n",
    "# Generate index parameter for seed-based connectivity analysis.\n",
    "n_sources = stc.data.shape[0]\n",
    "indices = seed_target_indices([seed_idx], np.arange(n_sources))\n",
    "\n",
    "# Compute inverse solution and for each epoch. By using \"return_generator=True\"\n",
    "# stcs will be a generator object instead of a list. This allows us so to\n",
    "# compute the coherence without having to keep all source estimates in memory.\n",
    "\n",
    "snr = 1.0  # use lower SNR for single epochs\n",
    "lambda2 = 1.0 / snr ** 2\n",
    "stcs = apply_inverse_epochs(epochs, inverse_operator, lambda2, method,\n",
    "                            pick_ori=\"normal\", return_generator=True)\n",
    "\n",
    "# Now we are ready to compute the coherence in the alpha and beta band.\n",
    "# fmin and fmax specify the lower and upper freq. for each band, resp.\n",
    "fmin = (8., 13.)\n",
    "fmax = (13., 30.)\n",
    "sfreq = raw.info['sfreq']  # the sampling frequency\n",
    "\n",
    "# Now we compute connectivity. To speed things up, we use 2 parallel jobs\n",
    "# and use mode='fourier', which uses a FFT with a Hanning window\n",
    "# to compute the spectra (instead of multitaper estimation, which has a\n",
    "# lower variance but is slower). By using faverage=True, we directly\n",
    "# average the coherence in the alpha and beta band, i.e., we will only\n",
    "# get 2 frequency bins.\n",
    "coh, freqs, times, n_epochs, n_tapers = spectral_connectivity(\n",
    "    stcs, method='coh', mode='fourier', indices=indices,\n",
    "    sfreq=sfreq, fmin=fmin, fmax=fmax, faverage=True, n_jobs=1)\n",
    "\n",
    "print('Frequencies in Hz over which coherence was averaged for alpha: ')\n",
    "print(freqs[0])\n",
    "print('Frequencies in Hz over which coherence was averaged for beta: ')\n",
    "print(freqs[1])\n",
    "\n",
    "# Generate a SourceEstimate with the coherence. This is simple since we\n",
    "# used a single seed. For more than one seeds we would have to split coh.\n",
    "# Note: We use a hack to save the frequency axis as time.\n",
    "tmin = np.mean(freqs[0])\n",
    "tstep = np.mean(freqs[1]) - tmin\n",
    "coh_stc = mne.SourceEstimate(coh, vertices=stc.vertices, tmin=1e-3 * tmin,\n",
    "                             tstep=1e-3 * tstep, subject='sample')\n",
    "\n",
    "# Now we can visualize the coherence using the plot method.\n",
    "brain = coh_stc.plot('sample', 'inflated', 'both',\n",
    "                     time_label='Coherence %0.1f Hz',\n",
    "                     subjects_dir=subjects_dir,\n",
    "                     clim=dict(kind='value', lims=(0.25, 0.4, 0.65)))\n",
    "brain.show_view('lateral')"
   ]
  },
  {
   "cell_type": "code",
   "execution_count": 5,
   "metadata": {
    "collapsed": false
   },
   "outputs": [
    {
     "name": "stdout",
     "output_type": "stream",
     "text": [
      "Extracting edf Parameters from Testdata.bdf...\n",
      "Setting channel info structure...\n",
      "Creating Raw.info structure...\n",
      "Ready.\n"
     ]
    },
    {
     "ename": "TypeError",
     "evalue": "Level not an integer or a valid string: <RawEDF  |  Testdata.bdf, n_channels x n_times : 65 x 1140736 (557.0 sec), ~135 kB, data not loaded>",
     "output_type": "error",
     "traceback": [
      "\u001b[0;31m---------------------------------------------------------------------------\u001b[0m",
      "\u001b[0;31mTypeError\u001b[0m                                 Traceback (most recent call last)",
      "\u001b[0;32m<ipython-input-5-271672319a2d>\u001b[0m in \u001b[0;36m<module>\u001b[0;34m()\u001b[0m\n\u001b[1;32m      2\u001b[0m \u001b[0mraw\u001b[0m \u001b[1;33m=\u001b[0m \u001b[0mmne\u001b[0m\u001b[1;33m.\u001b[0m\u001b[0mio\u001b[0m\u001b[1;33m.\u001b[0m\u001b[0mread_raw_edf\u001b[0m\u001b[1;33m(\u001b[0m\u001b[1;34m'Testdata.bdf'\u001b[0m\u001b[1;33m)\u001b[0m  \u001b[1;31m# load data\u001b[0m\u001b[1;33m\u001b[0m\u001b[0m\n\u001b[1;32m      3\u001b[0m \u001b[1;31m#raw.info['bads'] = ['MEG 2443', 'EEG 053']  # mark bad channels\u001b[0m\u001b[1;33m\u001b[0m\u001b[1;33m\u001b[0m\u001b[0m\n\u001b[0;32m----> 4\u001b[0;31m \u001b[0mraw\u001b[0m\u001b[1;33m.\u001b[0m\u001b[0mload_data\u001b[0m\u001b[1;33m(\u001b[0m\u001b[0mraw\u001b[0m\u001b[1;33m)\u001b[0m\u001b[1;33m\u001b[0m\u001b[0m\n\u001b[0m\u001b[1;32m      5\u001b[0m \u001b[0mraw\u001b[0m\u001b[1;33m.\u001b[0m\u001b[0mfilter\u001b[0m\u001b[1;33m(\u001b[0m\u001b[0ml_freq\u001b[0m\u001b[1;33m=\u001b[0m\u001b[0mNone\u001b[0m\u001b[1;33m,\u001b[0m \u001b[0mh_freq\u001b[0m\u001b[1;33m=\u001b[0m\u001b[1;36m40.0\u001b[0m\u001b[1;33m)\u001b[0m  \u001b[1;31m# low-pass filter\u001b[0m\u001b[1;33m\u001b[0m\u001b[0m\n\u001b[1;32m      6\u001b[0m \u001b[0mevents\u001b[0m \u001b[1;33m=\u001b[0m \u001b[0mmne\u001b[0m\u001b[1;33m.\u001b[0m\u001b[0mfind_events\u001b[0m\u001b[1;33m(\u001b[0m\u001b[0mraw\u001b[0m\u001b[1;33m,\u001b[0m \u001b[1;34m'STI014'\u001b[0m\u001b[1;33m)\u001b[0m  \u001b[1;31m# extract events and epoch data\u001b[0m\u001b[1;33m\u001b[0m\u001b[0m\n",
      "\u001b[0;32mC:\\ProgramData\\Anaconda2\\lib\\site-packages\\mne\\io\\base.pyc\u001b[0m in \u001b[0;36mload_data\u001b[0;34m(self, verbose)\u001b[0m\n",
      "\u001b[0;32mC:\\ProgramData\\Anaconda2\\lib\\site-packages\\mne\\utils.pyc\u001b[0m in \u001b[0;36mverbose\u001b[0;34m(function, *args, **kwargs)\u001b[0m\n\u001b[1;32m    703\u001b[0m     \u001b[1;32mif\u001b[0m \u001b[0mverbose_level\u001b[0m \u001b[1;32mis\u001b[0m \u001b[1;32mnot\u001b[0m \u001b[0mNone\u001b[0m\u001b[1;33m:\u001b[0m\u001b[1;33m\u001b[0m\u001b[0m\n\u001b[1;32m    704\u001b[0m         \u001b[1;31m# set it back if we get an exception\u001b[0m\u001b[1;33m\u001b[0m\u001b[1;33m\u001b[0m\u001b[0m\n\u001b[0;32m--> 705\u001b[0;31m         \u001b[1;32mwith\u001b[0m \u001b[0muse_log_level\u001b[0m\u001b[1;33m(\u001b[0m\u001b[0mverbose_level\u001b[0m\u001b[1;33m)\u001b[0m\u001b[1;33m:\u001b[0m\u001b[1;33m\u001b[0m\u001b[0m\n\u001b[0m\u001b[1;32m    706\u001b[0m             \u001b[1;32mreturn\u001b[0m \u001b[0mfunction\u001b[0m\u001b[1;33m(\u001b[0m\u001b[1;33m*\u001b[0m\u001b[0margs\u001b[0m\u001b[1;33m,\u001b[0m \u001b[1;33m**\u001b[0m\u001b[0mkwargs\u001b[0m\u001b[1;33m)\u001b[0m\u001b[1;33m\u001b[0m\u001b[0m\n\u001b[1;32m    707\u001b[0m     \u001b[1;32mreturn\u001b[0m \u001b[0mfunction\u001b[0m\u001b[1;33m(\u001b[0m\u001b[1;33m*\u001b[0m\u001b[0margs\u001b[0m\u001b[1;33m,\u001b[0m \u001b[1;33m**\u001b[0m\u001b[0mkwargs\u001b[0m\u001b[1;33m)\u001b[0m\u001b[1;33m\u001b[0m\u001b[0m\n",
      "\u001b[0;32mC:\\ProgramData\\Anaconda2\\lib\\site-packages\\mne\\utils.pyc\u001b[0m in \u001b[0;36m__enter__\u001b[0;34m(self)\u001b[0m\n\u001b[1;32m    721\u001b[0m \u001b[1;33m\u001b[0m\u001b[0m\n\u001b[1;32m    722\u001b[0m     \u001b[1;32mdef\u001b[0m \u001b[0m__enter__\u001b[0m\u001b[1;33m(\u001b[0m\u001b[0mself\u001b[0m\u001b[1;33m)\u001b[0m\u001b[1;33m:\u001b[0m  \u001b[1;31m# noqa: D105\u001b[0m\u001b[1;33m\u001b[0m\u001b[0m\n\u001b[0;32m--> 723\u001b[0;31m         \u001b[0mself\u001b[0m\u001b[1;33m.\u001b[0m\u001b[0mold_level\u001b[0m \u001b[1;33m=\u001b[0m \u001b[0mset_log_level\u001b[0m\u001b[1;33m(\u001b[0m\u001b[0mself\u001b[0m\u001b[1;33m.\u001b[0m\u001b[0mlevel\u001b[0m\u001b[1;33m,\u001b[0m \u001b[0mTrue\u001b[0m\u001b[1;33m)\u001b[0m\u001b[1;33m\u001b[0m\u001b[0m\n\u001b[0m\u001b[1;32m    724\u001b[0m \u001b[1;33m\u001b[0m\u001b[0m\n\u001b[1;32m    725\u001b[0m     \u001b[1;32mdef\u001b[0m \u001b[0m__exit__\u001b[0m\u001b[1;33m(\u001b[0m\u001b[0mself\u001b[0m\u001b[1;33m,\u001b[0m \u001b[1;33m*\u001b[0m\u001b[0margs\u001b[0m\u001b[1;33m)\u001b[0m\u001b[1;33m:\u001b[0m  \u001b[1;31m# noqa: D105\u001b[0m\u001b[1;33m\u001b[0m\u001b[0m\n",
      "\u001b[0;32mC:\\ProgramData\\Anaconda2\\lib\\site-packages\\mne\\utils.pyc\u001b[0m in \u001b[0;36mset_log_level\u001b[0;34m(verbose, return_old_level)\u001b[0m\n\u001b[1;32m   1269\u001b[0m     \u001b[0mlogger\u001b[0m \u001b[1;33m=\u001b[0m \u001b[0mlogging\u001b[0m\u001b[1;33m.\u001b[0m\u001b[0mgetLogger\u001b[0m\u001b[1;33m(\u001b[0m\u001b[1;34m'mne'\u001b[0m\u001b[1;33m)\u001b[0m\u001b[1;33m\u001b[0m\u001b[0m\n\u001b[1;32m   1270\u001b[0m     \u001b[0mold_verbose\u001b[0m \u001b[1;33m=\u001b[0m \u001b[0mlogger\u001b[0m\u001b[1;33m.\u001b[0m\u001b[0mlevel\u001b[0m\u001b[1;33m\u001b[0m\u001b[0m\n\u001b[0;32m-> 1271\u001b[0;31m     \u001b[0mlogger\u001b[0m\u001b[1;33m.\u001b[0m\u001b[0msetLevel\u001b[0m\u001b[1;33m(\u001b[0m\u001b[0mverbose\u001b[0m\u001b[1;33m)\u001b[0m\u001b[1;33m\u001b[0m\u001b[0m\n\u001b[0m\u001b[1;32m   1272\u001b[0m     \u001b[1;32mreturn\u001b[0m \u001b[1;33m(\u001b[0m\u001b[0mold_verbose\u001b[0m \u001b[1;32mif\u001b[0m \u001b[0mreturn_old_level\u001b[0m \u001b[1;32melse\u001b[0m \u001b[0mNone\u001b[0m\u001b[1;33m)\u001b[0m\u001b[1;33m\u001b[0m\u001b[0m\n\u001b[1;32m   1273\u001b[0m \u001b[1;33m\u001b[0m\u001b[0m\n",
      "\u001b[0;32mC:\\ProgramData\\Anaconda2\\lib\\logging\\__init__.pyc\u001b[0m in \u001b[0;36msetLevel\u001b[0;34m(self, level)\u001b[0m\n\u001b[1;32m   1141\u001b[0m         \u001b[0mSet\u001b[0m \u001b[0mthe\u001b[0m \u001b[0mlogging\u001b[0m \u001b[0mlevel\u001b[0m \u001b[0mof\u001b[0m \u001b[0mthis\u001b[0m \u001b[0mlogger\u001b[0m\u001b[1;33m.\u001b[0m\u001b[1;33m\u001b[0m\u001b[0m\n\u001b[1;32m   1142\u001b[0m         \"\"\"\n\u001b[0;32m-> 1143\u001b[0;31m         \u001b[0mself\u001b[0m\u001b[1;33m.\u001b[0m\u001b[0mlevel\u001b[0m \u001b[1;33m=\u001b[0m \u001b[0m_checkLevel\u001b[0m\u001b[1;33m(\u001b[0m\u001b[0mlevel\u001b[0m\u001b[1;33m)\u001b[0m\u001b[1;33m\u001b[0m\u001b[0m\n\u001b[0m\u001b[1;32m   1144\u001b[0m \u001b[1;33m\u001b[0m\u001b[0m\n\u001b[1;32m   1145\u001b[0m     \u001b[1;32mdef\u001b[0m \u001b[0mdebug\u001b[0m\u001b[1;33m(\u001b[0m\u001b[0mself\u001b[0m\u001b[1;33m,\u001b[0m \u001b[0mmsg\u001b[0m\u001b[1;33m,\u001b[0m \u001b[1;33m*\u001b[0m\u001b[0margs\u001b[0m\u001b[1;33m,\u001b[0m \u001b[1;33m**\u001b[0m\u001b[0mkwargs\u001b[0m\u001b[1;33m)\u001b[0m\u001b[1;33m:\u001b[0m\u001b[1;33m\u001b[0m\u001b[0m\n",
      "\u001b[0;32mC:\\ProgramData\\Anaconda2\\lib\\logging\\__init__.pyc\u001b[0m in \u001b[0;36m_checkLevel\u001b[0;34m(level)\u001b[0m\n\u001b[1;32m    183\u001b[0m         \u001b[0mrv\u001b[0m \u001b[1;33m=\u001b[0m \u001b[0m_levelNames\u001b[0m\u001b[1;33m[\u001b[0m\u001b[0mlevel\u001b[0m\u001b[1;33m]\u001b[0m\u001b[1;33m\u001b[0m\u001b[0m\n\u001b[1;32m    184\u001b[0m     \u001b[1;32melse\u001b[0m\u001b[1;33m:\u001b[0m\u001b[1;33m\u001b[0m\u001b[0m\n\u001b[0;32m--> 185\u001b[0;31m         \u001b[1;32mraise\u001b[0m \u001b[0mTypeError\u001b[0m\u001b[1;33m(\u001b[0m\u001b[1;34m\"Level not an integer or a valid string: %r\"\u001b[0m \u001b[1;33m%\u001b[0m \u001b[0mlevel\u001b[0m\u001b[1;33m)\u001b[0m\u001b[1;33m\u001b[0m\u001b[0m\n\u001b[0m\u001b[1;32m    186\u001b[0m     \u001b[1;32mreturn\u001b[0m \u001b[0mrv\u001b[0m\u001b[1;33m\u001b[0m\u001b[0m\n\u001b[1;32m    187\u001b[0m \u001b[1;33m\u001b[0m\u001b[0m\n",
      "\u001b[0;31mTypeError\u001b[0m: Level not an integer or a valid string: <RawEDF  |  Testdata.bdf, n_channels x n_times : 65 x 1140736 (557.0 sec), ~135 kB, data not loaded>"
     ]
    }
   ],
   "source": [
    "#NOT USED AS OF NOW!!!!!!!!!!\n",
    "\n",
    "import mne  \n",
    "raw = mne.io.read_raw_edf('Testdata.bdf')  # load data  \n",
    "#raw.info['bads'] = ['MEG 2443', 'EEG 053']  # mark bad channels  \n",
    "raw.load_data(raw)\n",
    "raw.filter(l_freq=None, h_freq=40.0)  # low-pass filter  \n",
    "#events = mne.find_events(raw, 'STI014')  # extract events and epoch data \n",
    "#epochs = mne.Epochs(raw, events, event_id=1, tmin=-0.2, tmax=0.5,  reject=dict(grad=4000e-13, mag=4e-12, eog=150e-6))  \n",
    "evoked = epochs.average()  # compute evoked  \n",
    "evoked.plot()  # butterfly plot the evoked data \n",
    "cov = mne.compute_covariance(epochs, tmax=0, method='shrunk')  \n",
    "fwd = mne.read_forward_solution(fwd_fname, surf_ori=True)  \n",
    "inv = mne.minimum_norm.make_inverse_operator(  \n",
    "    raw.info, fwd, cov, loose=0.2)  # compute inverse operator \n",
    "stc = mne.minimum_norm.apply_inverse(  \n",
    "    evoked, inv, lambda2=1. / 9., method='dSPM')  # apply it \n",
    "stc_fs = stc.morph('fsaverage')  # morph to fsaverage \n",
    "stc_fs.plot()  # plot source data on fsaverage's brain "
   ]
  },
  {
   "cell_type": "code",
   "execution_count": 1,
   "metadata": {
    "collapsed": false
   },
   "outputs": [
    {
     "name": "stdout",
     "output_type": "stream",
     "text": [
      "Reading Exp1_annotated.fdt\n",
      "38 events found\n",
      "Events id: [   7    8    9   15  131  132  133  134  136  137  139  960  991 1310 1311\n",
      " 9100 9115]\n",
      "Fitting ICA to data using 78 channels. \n",
      "Please be patient, this may take some time\n",
      "Selection by number: 1 components\n",
      "<ICA  |  raw data decomposition, fit (fastica): 4814848 samples, 1 components, channels used: \"eeg\">\n",
      "    Now searching for artifacts...\n",
      "    found 1 artifact by skewness\n",
      "    found 1 artifact by kurtosis\n",
      "    found 1 artifact by variance\n",
      "Artifact indices found:\n",
      "    0, 0, 0\n",
      "    Removing duplicate indices...\n",
      "Ready.\n"
     ]
    }
   ],
   "source": [
    "import mne\n",
    "from mne.minimum_norm import (apply_inverse, apply_inverse_epochs,\n",
    "                              read_inverse_operator)\n",
    "from mne.connectivity import seed_target_indices, spectral_connectivity\n",
    "from mne.preprocessing import run_ica\n",
    "\n",
    "raw = mne.io.read_raw_eeglab('Exp1_annotated.set')  # load data  \n",
    "events=mne.find_events(raw)\n",
    "#events = mne.read_events('Experiment 1_Tu18_7_11_12_annotations.txt')\n",
    "#epochs = mne.Epochs(raw, events, event_id, tmin, tmax, picks=picks,baseline=(None, 0), reject=dict(mag=4e-12, grad=4000e-13, eog=150e-6))\n",
    "\n",
    "ica=run_ica(raw, n_components=1, max_pca_components=78, n_pca_components=78, noise_cov=None, \n",
    "    random_state=None, picks=None, start=None, stop=None, start_find=None, stop_find=None, \n",
    "    ecg_ch=None, ecg_criterion=0.1, eog_ch=None, \n",
    "    eog_criterion=0.1, skew_criterion=-1, kurt_criterion=-1, var_criterion=0, add_nodes=None, verbose=None)\n",
    "\n"
   ]
  },
  {
   "cell_type": "code",
   "execution_count": 2,
   "metadata": {
    "collapsed": false
   },
   "outputs": [
    {
     "name": "stdout",
     "output_type": "stream",
     "text": [
      "Writing ica solution to exp1-ica.fif...\n"
     ]
    },
    {
     "data": {
      "text/plain": [
       "<ICA  |  raw data decomposition, fit (fastica): 4814848 samples, 1 components, channels used: \"eeg\", 1 sources marked for exclusion>"
      ]
     },
     "execution_count": 2,
     "metadata": {},
     "output_type": "execute_result"
    }
   ],
   "source": [
    "from mne.preprocessing import ICA\n",
    "\n",
    "ica.save(\"exp1-ica.fif\")"
   ]
  },
  {
   "cell_type": "code",
   "execution_count": 4,
   "metadata": {
    "collapsed": false
   },
   "outputs": [
    {
     "name": "stdout",
     "output_type": "stream",
     "text": [
      "1 matching events found\n",
      "0 projection items activated\n",
      "1 matching events found\n",
      "0 projection items activated\n",
      "Loading data for 1 events and 40961 original time points ...\n",
      "0 bad epochs dropped\n",
      "Loading data for 1 events and 40961 original time points ...\n",
      "0 bad epochs dropped\n",
      "2 matching events found\n",
      "0 bad epochs dropped\n",
      "8 matching events found\n",
      "0 projection items activated\n",
      "1 matching events found\n",
      "0 projection items activated\n",
      "1 matching events found\n",
      "0 projection items activated\n",
      "1 matching events found\n",
      "0 projection items activated\n",
      "1 matching events found\n",
      "0 projection items activated\n",
      "1 matching events found\n",
      "0 projection items activated\n",
      "1 matching events found\n",
      "0 projection items activated\n",
      "1 matching events found\n",
      "0 projection items activated\n",
      "1 matching events found\n",
      "0 projection items activated\n",
      "1 matching events found\n",
      "0 projection items activated\n",
      "1 matching events found\n",
      "0 projection items activated\n",
      "1 matching events found\n",
      "0 projection items activated\n",
      "1 matching events found\n",
      "0 projection items activated\n",
      "1 matching events found\n",
      "0 projection items activated\n"
     ]
    }
   ],
   "source": [
    "\n",
    "#rest epochs\n",
    "eog=mne.Epochs(raw, events, 7, 0, 20, baseline=(None, 0))\n",
    "emg=mne.Epochs(raw, events, 8, 0, 20, baseline=(None, 0))\n",
    "noise=mne.epochs.concatenate_epochs([eog,emg])\n",
    "rest = mne.Epochs(raw, events, 9, 0, 15, baseline=(None, 0))\n",
    "rest1= mne.Epochs(raw, events, 960, 0, 60, baseline=(None, 0))\n",
    "rest2= mne.Epochs(raw, events, 9115, 0, 115, baseline=(None, 0))\n",
    "rest3= mne.Epochs(raw, events, 9100, 0, 100, baseline=(None, 0))\n",
    "rest4= mne.Epochs(raw, events, 991, 0, 91, baseline=(None, 0))\n",
    "r=[rest,rest1,rest2,rest3,rest4]\n",
    "stim1 = mne.Epochs(raw, events, 131, 0, 144, baseline=(None, 0))\n",
    "stim2 = mne.Epochs(raw, events, 132, 0, 103, baseline=(None, 0))\n",
    "stim3 = mne.Epochs(raw, events, 133, 0, 119, baseline=(None, 0))\n",
    "stim4 = mne.Epochs(raw, events, 134, 0, 171, baseline=(None, 0))\n",
    "\n",
    "stim5 = mne.Epochs(raw, events, 136, 0, 94, baseline=(None, 0))\n",
    "stim6 = mne.Epochs(raw, events, 137, 0, 279, baseline=(None, 0))\n",
    "\n",
    "stim7 = mne.Epochs(raw, events, 139, 0, 180, baseline=(None, 0))\n",
    "stim8 = mne.Epochs(raw, events, 1310, 0, 107, baseline=(None, 0))\n",
    "stim9 = mne.Epochs(raw, events, 1311, 0, 286, baseline=(None, 0))\n",
    "s=[stim1,stim2,stim3,stim4,stim5,stim6,stim7,stim8,stim9]"
   ]
  },
  {
   "cell_type": "code",
   "execution_count": null,
   "metadata": {
    "collapsed": false
   },
   "outputs": [],
   "source": []
  },
  {
   "cell_type": "code",
   "execution_count": 7,
   "metadata": {
    "collapsed": false
   },
   "outputs": [
    {
     "name": "stdout",
     "output_type": "stream",
     "text": [
      "Connectivity computation...\n",
      "    computing connectivity for 3081 connections\n",
      "    using t=0.000s..60.000s for estimation (122881 points)\n",
      "    frequencies: 0.1Hz..49.0Hz (2936 points)\n",
      "    connectivity scores will be averaged for each band\n",
      "    using FFT with a Hanning window to estimate spectra\n",
      "    the following metrics will be computed: WPLI\n",
      "    computing connectivity for epochs 1..1\n"
     ]
    },
    {
     "name": "stderr",
     "output_type": "stream",
     "text": [
      "[Parallel(n_jobs=4)]: Done   1 out of   1 | elapsed:   36.2s finished\n"
     ]
    },
    {
     "name": "stdout",
     "output_type": "stream",
     "text": [
      "    assembling connectivity matrix\n",
      "[Connectivity computation done]\n",
      "Connectivity computation...\n",
      "    computing connectivity for 3081 connections\n",
      "    using t=0.000s..115.000s for estimation (235521 points)\n",
      "    frequencies: 0.0Hz..49.0Hz (5631 points)\n",
      "    connectivity scores will be averaged for each band\n",
      "    using FFT with a Hanning window to estimate spectra\n",
      "    the following metrics will be computed: WPLI\n",
      "    computing connectivity for epochs 1..1\n"
     ]
    },
    {
     "name": "stderr",
     "output_type": "stream",
     "text": [
      "[Parallel(n_jobs=4)]: Done   1 out of   1 | elapsed:    5.8s finished\n"
     ]
    },
    {
     "name": "stdout",
     "output_type": "stream",
     "text": [
      "    assembling connectivity matrix\n",
      "[Connectivity computation done]\n",
      "Connectivity computation...\n",
      "    computing connectivity for 3081 connections\n",
      "    using t=0.000s..100.000s for estimation (204801 points)\n",
      "    frequencies: 0.1Hz..49.0Hz (4895 points)\n",
      "    connectivity scores will be averaged for each band\n",
      "    using FFT with a Hanning window to estimate spectra\n",
      "    the following metrics will be computed: WPLI\n",
      "    computing connectivity for epochs 1..1\n"
     ]
    },
    {
     "name": "stderr",
     "output_type": "stream",
     "text": [
      "[Parallel(n_jobs=4)]: Done   1 out of   1 | elapsed:   21.1s finished\n"
     ]
    },
    {
     "name": "stdout",
     "output_type": "stream",
     "text": [
      "    assembling connectivity matrix\n",
      "[Connectivity computation done]\n",
      "Connectivity computation...\n",
      "    computing connectivity for 3081 connections\n",
      "    using t=0.000s..91.000s for estimation (186369 points)\n",
      "    frequencies: 0.1Hz..49.0Hz (4455 points)\n",
      "    connectivity scores will be averaged for each band\n",
      "    using FFT with a Hanning window to estimate spectra\n",
      "    the following metrics will be computed: WPLI\n",
      "    computing connectivity for epochs 1..1\n"
     ]
    },
    {
     "name": "stderr",
     "output_type": "stream",
     "text": [
      "[Parallel(n_jobs=4)]: Done   1 out of   1 | elapsed:    4.8s finished\n"
     ]
    },
    {
     "name": "stdout",
     "output_type": "stream",
     "text": [
      "    assembling connectivity matrix\n",
      "[Connectivity computation done]\n",
      "Connectivity computation...\n",
      "    computing connectivity for 3081 connections\n",
      "    using t=0.000s..15.000s for estimation (30721 points)\n",
      "    frequencies: 0.3Hz..49.0Hz (731 points)\n",
      "    connectivity scores will be averaged for each band\n",
      "    using FFT with a Hanning window to estimate spectra\n",
      "    the following metrics will be computed: WPLI\n",
      "    computing connectivity for epochs 1..4\n"
     ]
    },
    {
     "name": "stderr",
     "output_type": "stream",
     "text": [
      "[Parallel(n_jobs=4)]: Done   2 out of   4 | elapsed:    2.4s remaining:    2.4s\n",
      "[Parallel(n_jobs=4)]: Done   4 out of   4 | elapsed:    3.6s remaining:    0.0s\n",
      "[Parallel(n_jobs=4)]: Done   4 out of   4 | elapsed:    3.6s finished\n"
     ]
    },
    {
     "name": "stdout",
     "output_type": "stream",
     "text": [
      "    computing connectivity for epochs 5..8\n"
     ]
    },
    {
     "name": "stderr",
     "output_type": "stream",
     "text": [
      "[Parallel(n_jobs=4)]: Done   2 out of   4 | elapsed:    2.6s remaining:    2.6s\n"
     ]
    },
    {
     "name": "stdout",
     "output_type": "stream",
     "text": [
      "    computing connectivity for epochs 9..8\n"
     ]
    },
    {
     "name": "stderr",
     "output_type": "stream",
     "text": [
      "[Parallel(n_jobs=4)]: Done   4 out of   4 | elapsed:    3.1s remaining:    0.0s\n",
      "[Parallel(n_jobs=4)]: Done   4 out of   4 | elapsed:    3.1s finished\n",
      "[Parallel(n_jobs=4)]: Done   0 out of   0 | elapsed:    0.0s finished\n"
     ]
    },
    {
     "name": "stdout",
     "output_type": "stream",
     "text": [
      "    assembling connectivity matrix\n",
      "[Connectivity computation done]\n"
     ]
    }
   ],
   "source": [
    "#evoked = epochs.average()  # compute evoked  \n",
    "#evoked.plot()  # butterfly plot the evoked data \n",
    "#cov = mne.compute_covariance(epochs, tmax=0, method='shrunk')  \n",
    "#ica = run_ica(epochs)\n",
    "\n",
    "\"\"\"ica=run_ica(epochs, n_components=1, max_pca_components=50, n_pca_components=64, noise_cov=None, \n",
    "    random_state=None, picks=None, start=None, stop=None, start_find=None, stop_find=None, \n",
    "    ecg_ch=None, ecg_criterion=0.1, eog_ch=None, \n",
    "    eog_criterion=0.1, skew_criterion=-1, kurt_criterion=-1, var_criterion=0, add_nodes=None, verbose=None)\n",
    "\n",
    "\"\"\"\n",
    "coh_dump=[]\n",
    "freqs_dump=[]\n",
    "times_dump=[]\n",
    "\n",
    "#snr = 3.0\n",
    "#lambda2 = 1.0 / snr ** 2\n",
    "#evoked = epochs.average()\n",
    "#stc = apply_inverse(evoked, inverse_operator, lambda2, \"dSPM\",pick_ori=\"normal\")\n",
    "    \n",
    "coh, freqs, times, n_epochs, n_tapers = spectral_connectivity(rest1, method='wpli', mode='fourier', fmax=49, faverage=True, n_jobs=4)\n",
    "coh_dump.extend(coh)\n",
    "freqs_dump.extend(freqs)\n",
    "times_dump.extend(times)\n",
    "coh, freqs, times, n_epochs, n_tapers = spectral_connectivity(rest2, method='wpli', mode='fourier', fmax=49, faverage=True, n_jobs=4)\n",
    "coh_dump.extend(coh)\n",
    "freqs_dump.extend(freqs)\n",
    "times_dump.extend(times)\n",
    "coh, freqs, times, n_epochs, n_tapers = spectral_connectivity(rest3, method='wpli', mode='fourier', fmax=49, faverage=True, n_jobs=4)\n",
    "coh_dump.extend(coh)\n",
    "freqs_dump.extend(freqs)\n",
    "times_dump.extend(times)\n",
    "coh, freqs, times, n_epochs, n_tapers = spectral_connectivity(rest4, method='wpli', mode='fourier', fmax=49, faverage=True, n_jobs=4)\n",
    "coh_dump.extend(coh)\n",
    "freqs_dump.extend(freqs)\n",
    "times_dump.extend(times)\n",
    "coh, freqs, times, n_epochs, n_tapers = spectral_connectivity(rest, method='wpli', mode='fourier', fmax=49, faverage=True, n_jobs=4)\n",
    "coh_dump.extend(coh)\n",
    "freqs_dump.extend(freqs)\n",
    "times_dump.extend(times)\n",
    "\n",
    "coh_rest=coh_dump\n",
    "freqs_rest=freqs_dump\n",
    "times_rest=times_dump\n",
    "coh_dump=[]\n",
    "freqs_rest=[]\n",
    "\n",
    "\n"
   ]
  },
  {
   "cell_type": "code",
   "execution_count": 9,
   "metadata": {
    "collapsed": false
   },
   "outputs": [
    {
     "name": "stdout",
     "output_type": "stream",
     "text": [
      "Connectivity computation...\n",
      "    computing connectivity for 3081 connections\n",
      "    using t=0.000s..60.000s for estimation (122881 points)\n",
      "    frequencies: 0.1Hz..49.0Hz (2936 points)\n",
      "    connectivity scores will be averaged for each band\n",
      "    using FFT with a Hanning window to estimate spectra\n",
      "    the following metrics will be computed: WPLI\n",
      "    computing connectivity for epochs 1..1\n"
     ]
    },
    {
     "name": "stderr",
     "output_type": "stream",
     "text": [
      "[Parallel(n_jobs=12)]: Done   1 out of   1 | elapsed:   37.2s finished\n"
     ]
    },
    {
     "name": "stdout",
     "output_type": "stream",
     "text": [
      "    assembling connectivity matrix\n",
      "[Connectivity computation done]\n"
     ]
    },
    {
     "ename": "NameError",
     "evalue": "name 'plt' is not defined",
     "output_type": "error",
     "traceback": [
      "\u001b[0;31m---------------------------------------------------------------------------\u001b[0m",
      "\u001b[0;31mNameError\u001b[0m                                 Traceback (most recent call last)",
      "\u001b[0;32m<ipython-input-9-825c60865430>\u001b[0m in \u001b[0;36m<module>\u001b[0;34m()\u001b[0m\n\u001b[1;32m      3\u001b[0m \u001b[1;33m\u001b[0m\u001b[0m\n\u001b[1;32m      4\u001b[0m \u001b[0mn_rows\u001b[0m\u001b[1;33m,\u001b[0m \u001b[0mn_cols\u001b[0m \u001b[1;33m=\u001b[0m \u001b[0mcon\u001b[0m\u001b[1;33m.\u001b[0m\u001b[0mshape\u001b[0m\u001b[1;33m[\u001b[0m\u001b[1;33m:\u001b[0m\u001b[1;36m2\u001b[0m\u001b[1;33m]\u001b[0m\u001b[1;33m\u001b[0m\u001b[0m\n\u001b[0;32m----> 5\u001b[0;31m \u001b[0mfig\u001b[0m\u001b[1;33m,\u001b[0m \u001b[0maxes\u001b[0m \u001b[1;33m=\u001b[0m \u001b[0mplt\u001b[0m\u001b[1;33m.\u001b[0m\u001b[0msubplots\u001b[0m\u001b[1;33m(\u001b[0m\u001b[0mn_rows\u001b[0m\u001b[1;33m,\u001b[0m \u001b[0mn_cols\u001b[0m\u001b[1;33m,\u001b[0m \u001b[0msharex\u001b[0m\u001b[1;33m=\u001b[0m\u001b[0mTrue\u001b[0m\u001b[1;33m,\u001b[0m \u001b[0msharey\u001b[0m\u001b[1;33m=\u001b[0m\u001b[0mTrue\u001b[0m\u001b[1;33m)\u001b[0m\u001b[1;33m\u001b[0m\u001b[0m\n\u001b[0m\u001b[1;32m      6\u001b[0m \u001b[0mplt\u001b[0m\u001b[1;33m.\u001b[0m\u001b[0msuptitle\u001b[0m\u001b[1;33m(\u001b[0m\u001b[1;34m'Between labels connectivity'\u001b[0m\u001b[1;33m)\u001b[0m\u001b[1;33m\u001b[0m\u001b[0m\n\u001b[1;32m      7\u001b[0m \u001b[1;32mfor\u001b[0m \u001b[0mi\u001b[0m \u001b[1;32min\u001b[0m \u001b[0mrange\u001b[0m\u001b[1;33m(\u001b[0m\u001b[0mn_rows\u001b[0m\u001b[1;33m)\u001b[0m\u001b[1;33m:\u001b[0m\u001b[1;33m\u001b[0m\u001b[0m\n",
      "\u001b[0;31mNameError\u001b[0m: name 'plt' is not defined"
     ]
    }
   ],
   "source": [
    "\n",
    "con, freqs, times, n_epochs, n_tapers = spectral_connectivity(rest1, method='wpli', mode='fourier', fmax=49, faverage=True, n_jobs=12)\n",
    "\n",
    "\n"
   ]
  },
  {
   "cell_type": "code",
   "execution_count": 10,
   "metadata": {
    "collapsed": false
   },
   "outputs": [
    {
     "ename": "KeyboardInterrupt",
     "evalue": "",
     "output_type": "error",
     "traceback": [
      "\u001b[0;31m---------------------------------------------------------------------------\u001b[0m",
      "\u001b[0;31mKeyboardInterrupt\u001b[0m                         Traceback (most recent call last)",
      "\u001b[0;32m<ipython-input-10-d5e0759cae32>\u001b[0m in \u001b[0;36m<module>\u001b[0;34m()\u001b[0m\n\u001b[1;32m      1\u001b[0m \u001b[1;32mimport\u001b[0m \u001b[0mmatplotlib\u001b[0m\u001b[1;33m.\u001b[0m\u001b[0mpyplot\u001b[0m \u001b[1;32mas\u001b[0m \u001b[0mplt\u001b[0m\u001b[1;33m\u001b[0m\u001b[0m\n\u001b[1;32m      2\u001b[0m \u001b[0mn_rows\u001b[0m\u001b[1;33m,\u001b[0m \u001b[0mn_cols\u001b[0m \u001b[1;33m=\u001b[0m \u001b[0mcon\u001b[0m\u001b[1;33m.\u001b[0m\u001b[0mshape\u001b[0m\u001b[1;33m[\u001b[0m\u001b[1;33m:\u001b[0m\u001b[1;36m2\u001b[0m\u001b[1;33m]\u001b[0m\u001b[1;33m\u001b[0m\u001b[0m\n\u001b[0;32m----> 3\u001b[0;31m \u001b[0mfig\u001b[0m\u001b[1;33m,\u001b[0m \u001b[0maxes\u001b[0m \u001b[1;33m=\u001b[0m \u001b[0mplt\u001b[0m\u001b[1;33m.\u001b[0m\u001b[0msubplots\u001b[0m\u001b[1;33m(\u001b[0m\u001b[0mn_rows\u001b[0m\u001b[1;33m,\u001b[0m \u001b[0mn_cols\u001b[0m\u001b[1;33m,\u001b[0m \u001b[0msharex\u001b[0m\u001b[1;33m=\u001b[0m\u001b[0mTrue\u001b[0m\u001b[1;33m,\u001b[0m \u001b[0msharey\u001b[0m\u001b[1;33m=\u001b[0m\u001b[0mTrue\u001b[0m\u001b[1;33m)\u001b[0m\u001b[1;33m\u001b[0m\u001b[0m\n\u001b[0m\u001b[1;32m      4\u001b[0m \u001b[0mplt\u001b[0m\u001b[1;33m.\u001b[0m\u001b[0msuptitle\u001b[0m\u001b[1;33m(\u001b[0m\u001b[1;34m'Between labels connectivity'\u001b[0m\u001b[1;33m)\u001b[0m\u001b[1;33m\u001b[0m\u001b[0m\n\u001b[1;32m      5\u001b[0m \u001b[1;32mfor\u001b[0m \u001b[0mi\u001b[0m \u001b[1;32min\u001b[0m \u001b[0mrange\u001b[0m\u001b[1;33m(\u001b[0m\u001b[0mn_rows\u001b[0m\u001b[1;33m)\u001b[0m\u001b[1;33m:\u001b[0m\u001b[1;33m\u001b[0m\u001b[0m\n",
      "\u001b[0;32mC:\\Users\\Dominik\\Anaconda2\\lib\\site-packages\\matplotlib\\pyplot.pyc\u001b[0m in \u001b[0;36msubplots\u001b[0;34m(nrows, ncols, sharex, sharey, squeeze, subplot_kw, gridspec_kw, **fig_kw)\u001b[0m\n\u001b[1;32m   1218\u001b[0m         \u001b[1;32melse\u001b[0m\u001b[1;33m:\u001b[0m\u001b[1;33m\u001b[0m\u001b[0m\n\u001b[1;32m   1219\u001b[0m             \u001b[0msubplot_kw\u001b[0m\u001b[1;33m[\u001b[0m\u001b[1;34m'sharey'\u001b[0m\u001b[1;33m]\u001b[0m \u001b[1;33m=\u001b[0m \u001b[0maxarr\u001b[0m\u001b[1;33m[\u001b[0m\u001b[0msys\u001b[0m\u001b[1;33m[\u001b[0m\u001b[0mi\u001b[0m\u001b[1;33m]\u001b[0m\u001b[1;33m]\u001b[0m\u001b[1;33m\u001b[0m\u001b[0m\n\u001b[0;32m-> 1220\u001b[0;31m         \u001b[0maxarr\u001b[0m\u001b[1;33m[\u001b[0m\u001b[0mi\u001b[0m\u001b[1;33m]\u001b[0m \u001b[1;33m=\u001b[0m \u001b[0mfig\u001b[0m\u001b[1;33m.\u001b[0m\u001b[0madd_subplot\u001b[0m\u001b[1;33m(\u001b[0m\u001b[0mgs\u001b[0m\u001b[1;33m[\u001b[0m\u001b[0mi\u001b[0m \u001b[1;33m//\u001b[0m \u001b[0mncols\u001b[0m\u001b[1;33m,\u001b[0m \u001b[0mi\u001b[0m \u001b[1;33m%\u001b[0m \u001b[0mncols\u001b[0m\u001b[1;33m]\u001b[0m\u001b[1;33m,\u001b[0m \u001b[1;33m**\u001b[0m\u001b[0msubplot_kw\u001b[0m\u001b[1;33m)\u001b[0m\u001b[1;33m\u001b[0m\u001b[0m\n\u001b[0m\u001b[1;32m   1221\u001b[0m \u001b[1;33m\u001b[0m\u001b[0m\n\u001b[1;32m   1222\u001b[0m     \u001b[1;31m# returned axis array will be always 2-d, even if nrows=ncols=1\u001b[0m\u001b[1;33m\u001b[0m\u001b[1;33m\u001b[0m\u001b[0m\n",
      "\u001b[0;32mC:\\Users\\Dominik\\Anaconda2\\lib\\site-packages\\matplotlib\\figure.pyc\u001b[0m in \u001b[0;36madd_subplot\u001b[0;34m(self, *args, **kwargs)\u001b[0m\n\u001b[1;32m    988\u001b[0m \u001b[1;33m\u001b[0m\u001b[0m\n\u001b[1;32m    989\u001b[0m             \u001b[1;31m# try to find the axes with this key in the stack\u001b[0m\u001b[1;33m\u001b[0m\u001b[1;33m\u001b[0m\u001b[0m\n\u001b[0;32m--> 990\u001b[0;31m             \u001b[0max\u001b[0m \u001b[1;33m=\u001b[0m \u001b[0mself\u001b[0m\u001b[1;33m.\u001b[0m\u001b[0m_axstack\u001b[0m\u001b[1;33m.\u001b[0m\u001b[0mget\u001b[0m\u001b[1;33m(\u001b[0m\u001b[0mkey\u001b[0m\u001b[1;33m)\u001b[0m\u001b[1;33m\u001b[0m\u001b[0m\n\u001b[0m\u001b[1;32m    991\u001b[0m \u001b[1;33m\u001b[0m\u001b[0m\n\u001b[1;32m    992\u001b[0m             \u001b[1;32mif\u001b[0m \u001b[0max\u001b[0m \u001b[1;32mis\u001b[0m \u001b[1;32mnot\u001b[0m \u001b[0mNone\u001b[0m\u001b[1;33m:\u001b[0m\u001b[1;33m\u001b[0m\u001b[0m\n",
      "\u001b[0;32mC:\\Users\\Dominik\\Anaconda2\\lib\\site-packages\\matplotlib\\figure.pyc\u001b[0m in \u001b[0;36mget\u001b[0;34m(self, key)\u001b[0m\n\u001b[1;32m     89\u001b[0m         \u001b[0mIf\u001b[0m \u001b[0mit\u001b[0m \u001b[1;32mis\u001b[0m \u001b[1;32mnot\u001b[0m \u001b[0mpresent\u001b[0m\u001b[1;33m,\u001b[0m \u001b[1;32mreturn\u001b[0m \u001b[0mNone\u001b[0m\u001b[1;33m.\u001b[0m\u001b[1;33m\u001b[0m\u001b[0m\n\u001b[1;32m     90\u001b[0m         \"\"\"\n\u001b[0;32m---> 91\u001b[0;31m         \u001b[0mitem\u001b[0m \u001b[1;33m=\u001b[0m \u001b[0mdict\u001b[0m\u001b[1;33m(\u001b[0m\u001b[0mself\u001b[0m\u001b[1;33m.\u001b[0m\u001b[0m_elements\u001b[0m\u001b[1;33m)\u001b[0m\u001b[1;33m.\u001b[0m\u001b[0mget\u001b[0m\u001b[1;33m(\u001b[0m\u001b[0mkey\u001b[0m\u001b[1;33m)\u001b[0m\u001b[1;33m\u001b[0m\u001b[0m\n\u001b[0m\u001b[1;32m     92\u001b[0m         \u001b[1;32mif\u001b[0m \u001b[0mitem\u001b[0m \u001b[1;32mis\u001b[0m \u001b[0mNone\u001b[0m\u001b[1;33m:\u001b[0m\u001b[1;33m\u001b[0m\u001b[0m\n\u001b[1;32m     93\u001b[0m             \u001b[1;32mreturn\u001b[0m \u001b[0mNone\u001b[0m\u001b[1;33m\u001b[0m\u001b[0m\n",
      "\u001b[0;32mC:\\Users\\Dominik\\Anaconda2\\lib\\site-packages\\matplotlib\\gridspec.pyc\u001b[0m in \u001b[0;36m__eq__\u001b[0;34m(self, other)\u001b[0m\n\u001b[1;32m    470\u001b[0m                 hasattr(other, 'num2')):\n\u001b[1;32m    471\u001b[0m             \u001b[1;32mreturn\u001b[0m \u001b[0mFalse\u001b[0m\u001b[1;33m\u001b[0m\u001b[0m\n\u001b[0;32m--> 472\u001b[0;31m         return all((self._gridspec == other._gridspec,\n\u001b[0m\u001b[1;32m    473\u001b[0m                     \u001b[0mself\u001b[0m\u001b[1;33m.\u001b[0m\u001b[0mnum1\u001b[0m \u001b[1;33m==\u001b[0m \u001b[0mother\u001b[0m\u001b[1;33m.\u001b[0m\u001b[0mnum1\u001b[0m\u001b[1;33m,\u001b[0m\u001b[1;33m\u001b[0m\u001b[0m\n\u001b[1;32m    474\u001b[0m                     self.num2 == other.num2))\n",
      "\u001b[0;31mKeyboardInterrupt\u001b[0m: "
     ]
    }
   ],
   "source": [
    "import matplotlib.pyplot as plt\n",
    "n_rows, n_cols = con.shape[:2]\n",
    "fig, axes = plt.subplots(n_rows, n_cols, sharex=True, sharey=True)\n",
    "plt.suptitle('Between labels connectivity')\n",
    "for i in range(n_rows):\n",
    "    for j in range(i + 1):\n",
    "        if i == j:\n",
    "            axes[i, j].set_axis_off()\n",
    "            continue\n",
    "\n",
    "        axes[i, j].plot(freqs, con[i, j, :])\n",
    "        axes[j, i].plot(freqs, con[i, j, :])\n",
    "\n",
    "        if j == 0:\n",
    "            axes[i, j].set_ylabel(names[i])\n",
    "            axes[0, i].set_title(names[i])\n",
    "        if i == (n_rows - 1):\n",
    "            axes[i, j].set_xlabel(names[j])\n",
    "        axes[i, j].set_xlim([fmin, fmax])\n",
    "        axes[j, i].set_xlim([fmin, fmax])\n",
    "\n",
    "        # Show band limits\n",
    "        for f in [8, 12, 18, 35]:\n",
    "            axes[i, j].axvline(f, color='k')\n",
    "            axes[j, i].axvline(f, color='k')\n",
    "plt.show()"
   ]
  },
  {
   "cell_type": "code",
   "execution_count": 9,
   "metadata": {
    "collapsed": false
   },
   "outputs": [
    {
     "name": "stdout",
     "output_type": "stream",
     "text": [
      "Connectivity computation...\n",
      "    computing connectivity for 3081 connections\n",
      "    using t=0.000s..60.000s for estimation (122881 points)\n",
      "    frequencies: 0.1Hz..49.0Hz (2936 points)\n",
      "    connectivity scores will be averaged for each band\n",
      "    using FFT with a Hanning window to estimate spectra\n",
      "    the following metrics will be computed: WPLI\n",
      "    computing connectivity for epoch 1\n",
      "    assembling connectivity matrix\n",
      "[Connectivity computation done]\n",
      "34.7119998932\n"
     ]
    }
   ],
   "source": [
    "#TESTLINE!!!!!!!\n",
    "\n",
    "coh_dump=[]\n",
    "freqs_dump=[]\n",
    "times_dump=[]\n",
    "import time\n",
    "#snr = 3.0\n",
    "#lambda2 = 1.0 / snr ** 2\n",
    "#evoked = epochs.average()\n",
    "#stc = apply_inverse(evoked, inverse_operator, lambda2, \"dSPM\",pick_ori=\"normal\")\n",
    "timer=time.time()    \n",
    "coh, freqs, times, n_epochs, n_tapers = spectral_connectivity(rest1, method='wpli', mode='fourier', fmax=49, faverage=True, n_jobs=12)\n",
    "coh_dump.extend(coh)\n",
    "print (time.time()-timer)\n",
    "freqs_dump.extend(freqs)\n",
    "times_dump.extend(times)"
   ]
  },
  {
   "cell_type": "code",
   "execution_count": 16,
   "metadata": {
    "collapsed": false
   },
   "outputs": [
    {
     "ename": "TypeError",
     "evalue": "Montage must be a 'Montage' or 'DigMontage' instead of '<type 'str'>'.",
     "output_type": "error",
     "traceback": [
      "\u001b[0;31m---------------------------------------------------------------------------\u001b[0m",
      "\u001b[0;31mTypeError\u001b[0m                                 Traceback (most recent call last)",
      "\u001b[0;32m<ipython-input-16-64241de43866>\u001b[0m in \u001b[0;36m<module>\u001b[0;34m()\u001b[0m\n\u001b[0;32m----> 1\u001b[0;31m \u001b[0mlayout\u001b[0m \u001b[1;33m=\u001b[0m \u001b[0mraw\u001b[0m\u001b[1;33m.\u001b[0m\u001b[0mset_montage\u001b[0m\u001b[1;33m(\u001b[0m\u001b[1;34m\"cap_32_layout_medium.jpg\"\u001b[0m\u001b[1;33m)\u001b[0m  \u001b[1;31m# use full layout\u001b[0m\u001b[1;33m\u001b[0m\u001b[0m\n\u001b[0m\u001b[1;32m      2\u001b[0m \u001b[1;33m\u001b[0m\u001b[0m\n\u001b[1;32m      3\u001b[0m \u001b[0mtfr\u001b[0m \u001b[1;33m=\u001b[0m \u001b[0mAverageTFR\u001b[0m\u001b[1;33m(\u001b[0m\u001b[0mrest\u001b[0m\u001b[1;33m.\u001b[0m\u001b[0minfo\u001b[0m\u001b[1;33m,\u001b[0m \u001b[0mcoh_rest\u001b[0m\u001b[1;33m,\u001b[0m \u001b[0mtimes\u001b[0m\u001b[1;33m,\u001b[0m \u001b[0mfreqs_rest\u001b[0m\u001b[1;33m,\u001b[0m \u001b[0mlen\u001b[0m\u001b[1;33m(\u001b[0m\u001b[0mepochs\u001b[0m\u001b[1;33m)\u001b[0m\u001b[1;33m)\u001b[0m\u001b[1;33m\u001b[0m\u001b[0m\n\u001b[1;32m      4\u001b[0m \u001b[0mtfr\u001b[0m\u001b[1;33m.\u001b[0m\u001b[0mplot_topo\u001b[0m\u001b[1;33m(\u001b[0m\u001b[0mfig_facecolor\u001b[0m\u001b[1;33m=\u001b[0m\u001b[1;34m'w'\u001b[0m\u001b[1;33m,\u001b[0m \u001b[0mfont_color\u001b[0m\u001b[1;33m=\u001b[0m\u001b[1;34m'k'\u001b[0m\u001b[1;33m,\u001b[0m \u001b[0mborder\u001b[0m\u001b[1;33m=\u001b[0m\u001b[1;34m'k'\u001b[0m\u001b[1;33m)\u001b[0m\u001b[1;33m\u001b[0m\u001b[0m\n",
      "\u001b[0;32mC:\\Users\\Dominik\\Anaconda2\\lib\\site-packages\\mne\\channels\\channels.pyc\u001b[0m in \u001b[0;36mset_montage\u001b[0;34m(self, montage, verbose)\u001b[0m\n",
      "\u001b[0;32mC:\\Users\\Dominik\\Anaconda2\\lib\\site-packages\\mne\\utils.pyc\u001b[0m in \u001b[0;36mverbose\u001b[0;34m(function, *args, **kwargs)\u001b[0m\n\u001b[1;32m    705\u001b[0m         \u001b[1;32mwith\u001b[0m \u001b[0muse_log_level\u001b[0m\u001b[1;33m(\u001b[0m\u001b[0mverbose_level\u001b[0m\u001b[1;33m)\u001b[0m\u001b[1;33m:\u001b[0m\u001b[1;33m\u001b[0m\u001b[0m\n\u001b[1;32m    706\u001b[0m             \u001b[1;32mreturn\u001b[0m \u001b[0mfunction\u001b[0m\u001b[1;33m(\u001b[0m\u001b[1;33m*\u001b[0m\u001b[0margs\u001b[0m\u001b[1;33m,\u001b[0m \u001b[1;33m**\u001b[0m\u001b[0mkwargs\u001b[0m\u001b[1;33m)\u001b[0m\u001b[1;33m\u001b[0m\u001b[0m\n\u001b[0;32m--> 707\u001b[0;31m     \u001b[1;32mreturn\u001b[0m \u001b[0mfunction\u001b[0m\u001b[1;33m(\u001b[0m\u001b[1;33m*\u001b[0m\u001b[0margs\u001b[0m\u001b[1;33m,\u001b[0m \u001b[1;33m**\u001b[0m\u001b[0mkwargs\u001b[0m\u001b[1;33m)\u001b[0m\u001b[1;33m\u001b[0m\u001b[0m\n\u001b[0m\u001b[1;32m    708\u001b[0m \u001b[1;33m\u001b[0m\u001b[0m\n\u001b[1;32m    709\u001b[0m \u001b[1;33m\u001b[0m\u001b[0m\n",
      "\u001b[0;32mC:\\Users\\Dominik\\Anaconda2\\lib\\site-packages\\mne\\channels\\channels.pyc\u001b[0m in \u001b[0;36mset_montage\u001b[0;34m(self, montage, verbose)\u001b[0m\n\u001b[1;32m    471\u001b[0m         \"\"\"\n\u001b[1;32m    472\u001b[0m         \u001b[1;32mfrom\u001b[0m \u001b[1;33m.\u001b[0m\u001b[0mmontage\u001b[0m \u001b[1;32mimport\u001b[0m \u001b[0m_set_montage\u001b[0m\u001b[1;33m\u001b[0m\u001b[0m\n\u001b[0;32m--> 473\u001b[0;31m         \u001b[0m_set_montage\u001b[0m\u001b[1;33m(\u001b[0m\u001b[0mself\u001b[0m\u001b[1;33m.\u001b[0m\u001b[0minfo\u001b[0m\u001b[1;33m,\u001b[0m \u001b[0mmontage\u001b[0m\u001b[1;33m)\u001b[0m\u001b[1;33m\u001b[0m\u001b[0m\n\u001b[0m\u001b[1;32m    474\u001b[0m         \u001b[1;32mreturn\u001b[0m \u001b[0mself\u001b[0m\u001b[1;33m\u001b[0m\u001b[0m\n\u001b[1;32m    475\u001b[0m \u001b[1;33m\u001b[0m\u001b[0m\n",
      "\u001b[0;32mC:\\Users\\Dominik\\Anaconda2\\lib\\site-packages\\mne\\channels\\montage.pyc\u001b[0m in \u001b[0;36m_set_montage\u001b[0;34m(info, montage, update_ch_names)\u001b[0m\n\u001b[1;32m    826\u001b[0m     \u001b[1;32melse\u001b[0m\u001b[1;33m:\u001b[0m\u001b[1;33m\u001b[0m\u001b[0m\n\u001b[1;32m    827\u001b[0m         raise TypeError(\"Montage must be a 'Montage' or 'DigMontage' \"\n\u001b[0;32m--> 828\u001b[0;31m                         \"instead of '%s'.\" % type(montage))\n\u001b[0m",
      "\u001b[0;31mTypeError\u001b[0m: Montage must be a 'Montage' or 'DigMontage' instead of '<type 'str'>'."
     ]
    }
   ],
   "source": [
    "#TESTLINE!!!!!!!\n",
    "\n",
    "layout = raw.set_montage(\"cap_32_layout_medium.jpg\")  # use full layout\n",
    "\n",
    "tfr = AverageTFR(rest.info, coh_rest, times, freqs_rest, len(epochs))\n",
    "tfr.plot_topo(fig_facecolor='w', font_color='k', border='k')"
   ]
  },
  {
   "cell_type": "code",
   "execution_count": 11,
   "metadata": {
    "collapsed": false
   },
   "outputs": [
    {
     "name": "stdout",
     "output_type": "stream",
     "text": [
      "Connectivity computation...\n",
      "    computing connectivity for 3081 connections\n",
      "    using t=0.000s..144.000s for estimation (294913 points)\n",
      "    frequencies: 0.0Hz..49.0Hz (7052 points)\n",
      "    connectivity scores will be averaged for each band\n",
      "    using FFT with a Hanning window to estimate spectra\n",
      "    the following metrics will be computed: WPLI\n",
      "    computing connectivity for epoch 1\n",
      "    assembling connectivity matrix\n",
      "[Connectivity computation done]\n",
      "Connectivity computation...\n",
      "    computing connectivity for 3081 connections\n",
      "    using t=0.000s..103.000s for estimation (210945 points)\n",
      "    frequencies: 0.0Hz..49.0Hz (5043 points)\n",
      "    connectivity scores will be averaged for each band\n",
      "    using FFT with a Hanning window to estimate spectra\n",
      "    the following metrics will be computed: WPLI\n",
      "    computing connectivity for epoch 1\n",
      "    assembling connectivity matrix\n",
      "[Connectivity computation done]\n",
      "Connectivity computation...\n",
      "    computing connectivity for 3081 connections\n",
      "    using t=0.000s..119.000s for estimation (243713 points)\n",
      "    frequencies: 0.0Hz..49.0Hz (5827 points)\n",
      "    connectivity scores will be averaged for each band\n",
      "    using FFT with a Hanning window to estimate spectra\n",
      "    the following metrics will be computed: WPLI\n",
      "    computing connectivity for epoch 1\n",
      "    assembling connectivity matrix\n",
      "[Connectivity computation done]\n",
      "Connectivity computation...\n",
      "    computing connectivity for 3081 connections\n",
      "    using t=0.000s..171.000s for estimation (350209 points)\n",
      "    frequencies: 0.0Hz..49.0Hz (8375 points)\n",
      "    connectivity scores will be averaged for each band\n",
      "    using FFT with a Hanning window to estimate spectra\n",
      "    the following metrics will be computed: WPLI\n",
      "    computing connectivity for epoch 1\n",
      "    assembling connectivity matrix\n",
      "[Connectivity computation done]\n",
      "Connectivity computation...\n",
      "    computing connectivity for 3081 connections\n",
      "    using t=0.000s..94.000s for estimation (192513 points)\n",
      "    frequencies: 0.1Hz..49.0Hz (4602 points)\n",
      "    connectivity scores will be averaged for each band\n",
      "    using FFT with a Hanning window to estimate spectra\n",
      "    the following metrics will be computed: WPLI\n",
      "    computing connectivity for epoch 1\n",
      "    assembling connectivity matrix\n",
      "[Connectivity computation done]\n",
      "Connectivity computation...\n",
      "    computing connectivity for 3081 connections\n",
      "    using t=0.000s..279.000s for estimation (571393 points)\n",
      "    frequencies: 0.0Hz..49.0Hz (13667 points)\n",
      "    connectivity scores will be averaged for each band\n",
      "    using FFT with a Hanning window to estimate spectra\n",
      "    the following metrics will be computed: WPLI\n",
      "    computing connectivity for epoch 1\n",
      "    assembling connectivity matrix\n",
      "[Connectivity computation done]\n",
      "Connectivity computation...\n",
      "    computing connectivity for 3081 connections\n",
      "    using t=0.000s..180.000s for estimation (368641 points)\n",
      "    frequencies: 0.0Hz..49.0Hz (8816 points)\n",
      "    connectivity scores will be averaged for each band\n",
      "    using FFT with a Hanning window to estimate spectra\n",
      "    the following metrics will be computed: WPLI\n",
      "    computing connectivity for epoch 1\n",
      "    assembling connectivity matrix\n",
      "[Connectivity computation done]\n",
      "Connectivity computation...\n",
      "    computing connectivity for 3081 connections\n",
      "    using t=0.000s..107.000s for estimation (219137 points)\n",
      "    frequencies: 0.0Hz..49.0Hz (5239 points)\n",
      "    connectivity scores will be averaged for each band\n",
      "    using FFT with a Hanning window to estimate spectra\n",
      "    the following metrics will be computed: WPLI\n",
      "    computing connectivity for epoch 1\n",
      "    assembling connectivity matrix\n",
      "[Connectivity computation done]\n",
      "Connectivity computation...\n",
      "    computing connectivity for 3081 connections\n",
      "    using t=0.000s..286.000s for estimation (585729 points)\n",
      "    frequencies: 0.0Hz..49.0Hz (14009 points)\n",
      "    connectivity scores will be averaged for each band\n",
      "    using FFT with a Hanning window to estimate spectra\n",
      "    the following metrics will be computed: WPLI\n",
      "    computing connectivity for epoch 1\n",
      "    assembling connectivity matrix\n",
      "[Connectivity computation done]\n"
     ]
    }
   ],
   "source": [
    "coh, freqs, times, n_epochs, n_tapers = spectral_connectivity(stim1, method='wpli', mode='fourier', fmax=49, faverage=True, n_jobs=1)\n",
    "coh_dump.extend(coh)\n",
    "freqs_dump.extend(coh)\n",
    "coh, freqs, times, n_epochs, n_tapers = spectral_connectivity(stim2, method='wpli', mode='fourier', fmax=49, faverage=True, n_jobs=1)\n",
    "coh_dump.extend(coh)\n",
    "freqs_dump.extend(coh)\n",
    "coh, freqs, times, n_epochs, n_tapers = spectral_connectivity(stim3, method='wpli', mode='fourier', fmax=49, faverage=True, n_jobs=1)\n",
    "coh_dump.extend(coh)\n",
    "freqs_dump.extend(coh)\n",
    "coh, freqs, times, n_epochs, n_tapers = spectral_connectivity(stim4, method='wpli', mode='fourier', fmax=49, faverage=True, n_jobs=1)\n",
    "coh_dump.extend(coh)\n",
    "freqs_dump.extend(coh)\n",
    "coh, freqs, times, n_epochs, n_tapers = spectral_connectivity(stim5, method='wpli', mode='fourier', fmax=49, faverage=True, n_jobs=1)\n",
    "coh_dump.extend(coh)\n",
    "freqs_dump.extend(coh)\n",
    "coh, freqs, times, n_epochs, n_tapers = spectral_connectivity(stim6, method='wpli', mode='fourier', fmax=49, faverage=True, n_jobs=1)\n",
    "coh_dump.extend(coh)\n",
    "freqs_dump.extend(coh)\n",
    "coh, freqs, times, n_epochs, n_tapers = spectral_connectivity(stim7, method='wpli', mode='fourier', fmax=49, faverage=True, n_jobs=1)\n",
    "coh_dump.extend(coh)\n",
    "freqs_dump.extend(coh)\n",
    "coh, freqs, times, n_epochs, n_tapers = spectral_connectivity(stim8, method='wpli', mode='fourier', fmax=49, faverage=True, n_jobs=1)\n",
    "coh_dump.extend(coh)\n",
    "freqs_dump.extend(coh)\n",
    "coh, freqs, times, n_epochs, n_tapers = spectral_connectivity(stim9, method='wpli', mode='fourier', fmax=49, faverage=True, n_jobs=1)\n",
    "coh_dump.extend(coh)\n",
    "freqs_dump.extend(coh)\n",
    "coh_stim=coh_dump\n",
    "freqs_stim=freqs_dump"
   ]
  },
  {
   "cell_type": "code",
   "execution_count": null,
   "metadata": {
    "collapsed": true
   },
   "outputs": [],
   "source": []
  }
 ],
 "metadata": {
  "anaconda-cloud": {},
  "kernelspec": {
   "display_name": "Python [default]",
   "language": "python",
   "name": "python2"
  },
  "language_info": {
   "codemirror_mode": {
    "name": "ipython",
    "version": 2
   },
   "file_extension": ".py",
   "mimetype": "text/x-python",
   "name": "python",
   "nbconvert_exporter": "python",
   "pygments_lexer": "ipython2",
   "version": "2.7.13"
  }
 },
 "nbformat": 4,
 "nbformat_minor": 0
}
